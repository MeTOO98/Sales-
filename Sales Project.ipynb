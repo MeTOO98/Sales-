{
 "cells": [
  {
   "cell_type": "markdown",
   "id": "d63da481",
   "metadata": {},
   "source": [
    "## Importing Module"
   ]
  },
  {
   "cell_type": "code",
   "execution_count": 1,
   "id": "b365f958",
   "metadata": {},
   "outputs": [],
   "source": [
    "import pandas as pd "
   ]
  },
  {
   "cell_type": "markdown",
   "id": "e95c54e2",
   "metadata": {},
   "source": [
    "## Importing Data"
   ]
  },
  {
   "cell_type": "code",
   "execution_count": 2,
   "id": "60b49090",
   "metadata": {},
   "outputs": [],
   "source": [
    "df1 = pd.read_csv(r'C:\\Users\\el mostafa\\Downloads\\archive (1)\\Sales_April_2019.csv')"
   ]
  },
  {
   "cell_type": "code",
   "execution_count": 3,
   "id": "20903722",
   "metadata": {},
   "outputs": [],
   "source": [
    "df2 = pd.read_csv(r'C:\\Users\\el mostafa\\Downloads\\archive (1)\\Sales_August_2019.csv')"
   ]
  },
  {
   "cell_type": "code",
   "execution_count": 4,
   "id": "6506d478",
   "metadata": {},
   "outputs": [],
   "source": [
    "df3 = pd.read_csv(r'C:\\Users\\el mostafa\\Downloads\\archive (1)\\Sales_December_2019.csv')"
   ]
  },
  {
   "cell_type": "code",
   "execution_count": 5,
   "id": "11808ad0",
   "metadata": {},
   "outputs": [],
   "source": [
    "df4 = pd.read_csv(r'C:\\Users\\el mostafa\\Downloads\\archive (1)\\Sales_February_2019.csv')"
   ]
  },
  {
   "cell_type": "code",
   "execution_count": 6,
   "id": "731ad194",
   "metadata": {},
   "outputs": [],
   "source": [
    "df5 = pd.read_csv(r'C:\\Users\\el mostafa\\Downloads\\archive (1)\\Sales_January_2019.csv')"
   ]
  },
  {
   "cell_type": "code",
   "execution_count": 7,
   "id": "078d75b0",
   "metadata": {},
   "outputs": [],
   "source": [
    "df6 = pd.read_csv(r'C:\\Users\\el mostafa\\Downloads\\archive (1)\\Sales_July_2019.csv')"
   ]
  },
  {
   "cell_type": "code",
   "execution_count": 8,
   "id": "906fac35",
   "metadata": {},
   "outputs": [],
   "source": [
    "df7 = pd.read_csv(r'C:\\Users\\el mostafa\\Downloads\\archive (1)\\Sales_June_2019.csv')"
   ]
  },
  {
   "cell_type": "code",
   "execution_count": 9,
   "id": "d87a3e10",
   "metadata": {},
   "outputs": [],
   "source": [
    "df8 = pd.read_csv(r'C:\\Users\\el mostafa\\Downloads\\archive (1)\\Sales_March_2019.csv')"
   ]
  },
  {
   "cell_type": "code",
   "execution_count": 10,
   "id": "960c7a55",
   "metadata": {},
   "outputs": [],
   "source": [
    "df9 = pd.read_csv(r'C:\\Users\\el mostafa\\Downloads\\archive (1)\\Sales_May_2019.csv')"
   ]
  },
  {
   "cell_type": "code",
   "execution_count": 11,
   "id": "8d313c61",
   "metadata": {},
   "outputs": [],
   "source": [
    "df10 = pd.read_csv(r'C:\\Users\\el mostafa\\Downloads\\archive (1)\\Sales_November_2019.csv')"
   ]
  },
  {
   "cell_type": "code",
   "execution_count": 12,
   "id": "72c254e9",
   "metadata": {},
   "outputs": [],
   "source": [
    "df11 = pd.read_csv(r'C:\\Users\\el mostafa\\Downloads\\archive (1)\\Sales_October_2019.csv')"
   ]
  },
  {
   "cell_type": "code",
   "execution_count": 13,
   "id": "8b09ffbe",
   "metadata": {},
   "outputs": [],
   "source": [
    "df12 = pd.read_csv(r'C:\\Users\\el mostafa\\Downloads\\archive (1)\\Sales_September_2019.csv')"
   ]
  },
  {
   "cell_type": "markdown",
   "id": "81dd4f11",
   "metadata": {},
   "source": [
    "## Making data one file "
   ]
  },
  {
   "cell_type": "code",
   "execution_count": 14,
   "id": "ccb14a04",
   "metadata": {},
   "outputs": [],
   "source": [
    "allmonths = pd.concat([df1,df2,df3,df4,df5,df6,df7,df8,df9,df10,df11,df12])"
   ]
  },
  {
   "cell_type": "markdown",
   "id": "e50354be",
   "metadata": {},
   "source": [
    "## Knowing information about Data"
   ]
  },
  {
   "cell_type": "code",
   "execution_count": 15,
   "id": "30906661",
   "metadata": {},
   "outputs": [
    {
     "name": "stdout",
     "output_type": "stream",
     "text": [
      "<class 'pandas.core.frame.DataFrame'>\n",
      "Index: 186850 entries, 0 to 11685\n",
      "Data columns (total 6 columns):\n",
      " #   Column            Non-Null Count   Dtype \n",
      "---  ------            --------------   ----- \n",
      " 0   Order ID          186305 non-null  object\n",
      " 1   Product           186305 non-null  object\n",
      " 2   Quantity Ordered  186305 non-null  object\n",
      " 3   Price Each        186305 non-null  object\n",
      " 4   Order Date        186305 non-null  object\n",
      " 5   Purchase Address  186305 non-null  object\n",
      "dtypes: object(6)\n",
      "memory usage: 10.0+ MB\n"
     ]
    }
   ],
   "source": [
    "allmonths.info()"
   ]
  },
  {
   "cell_type": "markdown",
   "id": "7d6aa5f8",
   "metadata": {},
   "source": [
    "## Cleaning Data by Droping null Values"
   ]
  },
  {
   "cell_type": "code",
   "execution_count": 16,
   "id": "af8ec3c6",
   "metadata": {},
   "outputs": [],
   "source": [
    "allmonths.dropna(inplace=True)"
   ]
  },
  {
   "cell_type": "code",
   "execution_count": 17,
   "id": "0e71a438",
   "metadata": {},
   "outputs": [
    {
     "name": "stdout",
     "output_type": "stream",
     "text": [
      "<class 'pandas.core.frame.DataFrame'>\n",
      "Index: 186305 entries, 0 to 11685\n",
      "Data columns (total 6 columns):\n",
      " #   Column            Non-Null Count   Dtype \n",
      "---  ------            --------------   ----- \n",
      " 0   Order ID          186305 non-null  object\n",
      " 1   Product           186305 non-null  object\n",
      " 2   Quantity Ordered  186305 non-null  object\n",
      " 3   Price Each        186305 non-null  object\n",
      " 4   Order Date        186305 non-null  object\n",
      " 5   Purchase Address  186305 non-null  object\n",
      "dtypes: object(6)\n",
      "memory usage: 9.9+ MB\n"
     ]
    }
   ],
   "source": [
    "allmonths.info()"
   ]
  },
  {
   "cell_type": "code",
   "execution_count": 18,
   "id": "10b21e32",
   "metadata": {},
   "outputs": [
    {
     "data": {
      "text/html": [
       "<div>\n",
       "<style scoped>\n",
       "    .dataframe tbody tr th:only-of-type {\n",
       "        vertical-align: middle;\n",
       "    }\n",
       "\n",
       "    .dataframe tbody tr th {\n",
       "        vertical-align: top;\n",
       "    }\n",
       "\n",
       "    .dataframe thead th {\n",
       "        text-align: right;\n",
       "    }\n",
       "</style>\n",
       "<table border=\"1\" class=\"dataframe\">\n",
       "  <thead>\n",
       "    <tr style=\"text-align: right;\">\n",
       "      <th></th>\n",
       "      <th>Order ID</th>\n",
       "      <th>Product</th>\n",
       "      <th>Quantity Ordered</th>\n",
       "      <th>Price Each</th>\n",
       "      <th>Order Date</th>\n",
       "      <th>Purchase Address</th>\n",
       "    </tr>\n",
       "  </thead>\n",
       "  <tbody>\n",
       "    <tr>\n",
       "      <th>3110</th>\n",
       "      <td>225887</td>\n",
       "      <td>Lightning Charging Cable</td>\n",
       "      <td>1</td>\n",
       "      <td>14.95</td>\n",
       "      <td>07/18/19 16:32</td>\n",
       "      <td>487 Sunset St, San Francisco, CA 94016</td>\n",
       "    </tr>\n",
       "    <tr>\n",
       "      <th>11649</th>\n",
       "      <td>221035</td>\n",
       "      <td>Google Phone</td>\n",
       "      <td>1</td>\n",
       "      <td>600</td>\n",
       "      <td>06/28/19 22:24</td>\n",
       "      <td>160 South St, San Francisco, CA 94016</td>\n",
       "    </tr>\n",
       "    <tr>\n",
       "      <th>18237</th>\n",
       "      <td>193958</td>\n",
       "      <td>AA Batteries (4-pack)</td>\n",
       "      <td>3</td>\n",
       "      <td>3.84</td>\n",
       "      <td>04/26/19 21:55</td>\n",
       "      <td>55 1st St, San Francisco, CA 94016</td>\n",
       "    </tr>\n",
       "    <tr>\n",
       "      <th>7730</th>\n",
       "      <td>169389</td>\n",
       "      <td>LG Dryer</td>\n",
       "      <td>1</td>\n",
       "      <td>600.0</td>\n",
       "      <td>03/06/19 15:55</td>\n",
       "      <td>327 Johnson St, San Francisco, CA 94016</td>\n",
       "    </tr>\n",
       "    <tr>\n",
       "      <th>6425</th>\n",
       "      <td>254309</td>\n",
       "      <td>Vareebadd Phone</td>\n",
       "      <td>1</td>\n",
       "      <td>400</td>\n",
       "      <td>09/21/19 13:58</td>\n",
       "      <td>854 6th St, Seattle, WA 98101</td>\n",
       "    </tr>\n",
       "    <tr>\n",
       "      <th>7541</th>\n",
       "      <td>255374</td>\n",
       "      <td>USB-C Charging Cable</td>\n",
       "      <td>1</td>\n",
       "      <td>11.95</td>\n",
       "      <td>09/09/19 15:18</td>\n",
       "      <td>511 7th St, New York City, NY 10001</td>\n",
       "    </tr>\n",
       "    <tr>\n",
       "      <th>6242</th>\n",
       "      <td>254132</td>\n",
       "      <td>Google Phone</td>\n",
       "      <td>1</td>\n",
       "      <td>600</td>\n",
       "      <td>09/09/19 12:01</td>\n",
       "      <td>628 Ridge St, Austin, TX 73301</td>\n",
       "    </tr>\n",
       "    <tr>\n",
       "      <th>8438</th>\n",
       "      <td>244743</td>\n",
       "      <td>27in FHD Monitor</td>\n",
       "      <td>1</td>\n",
       "      <td>149.99</td>\n",
       "      <td>08/31/19 19:42</td>\n",
       "      <td>840 Jackson St, Seattle, WA 98101</td>\n",
       "    </tr>\n",
       "    <tr>\n",
       "      <th>13232</th>\n",
       "      <td>308294</td>\n",
       "      <td>AA Batteries (4-pack)</td>\n",
       "      <td>2</td>\n",
       "      <td>3.84</td>\n",
       "      <td>12/28/19 18:16</td>\n",
       "      <td>119 Jefferson St, Los Angeles, CA 90001</td>\n",
       "    </tr>\n",
       "    <tr>\n",
       "      <th>17598</th>\n",
       "      <td>193354</td>\n",
       "      <td>AAA Batteries (4-pack)</td>\n",
       "      <td>1</td>\n",
       "      <td>2.99</td>\n",
       "      <td>04/08/19 17:09</td>\n",
       "      <td>334 Cedar St, Atlanta, GA 30301</td>\n",
       "    </tr>\n",
       "  </tbody>\n",
       "</table>\n",
       "</div>"
      ],
      "text/plain": [
       "      Order ID                   Product Quantity Ordered Price Each  \\\n",
       "3110    225887  Lightning Charging Cable                1      14.95   \n",
       "11649   221035              Google Phone                1        600   \n",
       "18237   193958     AA Batteries (4-pack)                3       3.84   \n",
       "7730    169389                  LG Dryer                1      600.0   \n",
       "6425    254309           Vareebadd Phone                1        400   \n",
       "7541    255374      USB-C Charging Cable                1      11.95   \n",
       "6242    254132              Google Phone                1        600   \n",
       "8438    244743          27in FHD Monitor                1     149.99   \n",
       "13232   308294     AA Batteries (4-pack)                2       3.84   \n",
       "17598   193354    AAA Batteries (4-pack)                1       2.99   \n",
       "\n",
       "           Order Date                         Purchase Address  \n",
       "3110   07/18/19 16:32   487 Sunset St, San Francisco, CA 94016  \n",
       "11649  06/28/19 22:24    160 South St, San Francisco, CA 94016  \n",
       "18237  04/26/19 21:55       55 1st St, San Francisco, CA 94016  \n",
       "7730   03/06/19 15:55  327 Johnson St, San Francisco, CA 94016  \n",
       "6425   09/21/19 13:58            854 6th St, Seattle, WA 98101  \n",
       "7541   09/09/19 15:18      511 7th St, New York City, NY 10001  \n",
       "6242   09/09/19 12:01           628 Ridge St, Austin, TX 73301  \n",
       "8438   08/31/19 19:42        840 Jackson St, Seattle, WA 98101  \n",
       "13232  12/28/19 18:16  119 Jefferson St, Los Angeles, CA 90001  \n",
       "17598  04/08/19 17:09          334 Cedar St, Atlanta, GA 30301  "
      ]
     },
     "execution_count": 18,
     "metadata": {},
     "output_type": "execute_result"
    }
   ],
   "source": [
    "allmonths.sample(10)"
   ]
  },
  {
   "cell_type": "markdown",
   "id": "007d9513",
   "metadata": {},
   "source": [
    "## Cleaning Data by droping Duplicated Data"
   ]
  },
  {
   "cell_type": "code",
   "execution_count": 19,
   "id": "726134fc",
   "metadata": {},
   "outputs": [
    {
     "data": {
      "text/plain": [
       "618"
      ]
     },
     "execution_count": 19,
     "metadata": {},
     "output_type": "execute_result"
    }
   ],
   "source": [
    "allmonths.duplicated().sum()"
   ]
  },
  {
   "cell_type": "code",
   "execution_count": 20,
   "id": "60078beb",
   "metadata": {},
   "outputs": [],
   "source": [
    "allmonths.drop_duplicates(inplace=True)"
   ]
  },
  {
   "cell_type": "code",
   "execution_count": 21,
   "id": "6000e599",
   "metadata": {},
   "outputs": [
    {
     "data": {
      "text/plain": [
       "0"
      ]
     },
     "execution_count": 21,
     "metadata": {},
     "output_type": "execute_result"
    }
   ],
   "source": [
    "allmonths.duplicated().sum()"
   ]
  },
  {
   "cell_type": "code",
   "execution_count": 22,
   "id": "f38b7d84",
   "metadata": {},
   "outputs": [],
   "source": [
    "i=allmonths[allmonths['Product']=='Product'].index"
   ]
  },
  {
   "cell_type": "code",
   "execution_count": 23,
   "id": "a16de0d7",
   "metadata": {},
   "outputs": [],
   "source": [
    "allmonths.drop(i,inplace=True)"
   ]
  },
  {
   "cell_type": "markdown",
   "id": "7b65652b",
   "metadata": {},
   "source": [
    "## Converting Column Order date to object its class is Datetime instead of Str"
   ]
  },
  {
   "cell_type": "code",
   "execution_count": 50,
   "id": "3cd8eb45",
   "metadata": {},
   "outputs": [],
   "source": [
    "allmonths['Order Date']=pd.to_datetime(allmonths['Order Date'])"
   ]
  },
  {
   "cell_type": "markdown",
   "id": "02f138f8",
   "metadata": {},
   "source": [
    "## Adding to DF a month column"
   ]
  },
  {
   "cell_type": "code",
   "execution_count": 25,
   "id": "d535aeba",
   "metadata": {},
   "outputs": [
    {
     "data": {
      "text/plain": [
       "0            April\n",
       "2            April\n",
       "3            April\n",
       "4            April\n",
       "5            April\n",
       "           ...    \n",
       "11681    September\n",
       "11682    September\n",
       "11683    September\n",
       "11684    September\n",
       "11685    September\n",
       "Name: Order Date, Length: 185675, dtype: object"
      ]
     },
     "execution_count": 25,
     "metadata": {},
     "output_type": "execute_result"
    }
   ],
   "source": [
    "allmonths['Order Date'].dt.month_name()"
   ]
  },
  {
   "cell_type": "code",
   "execution_count": 26,
   "id": "c2dc68ff",
   "metadata": {},
   "outputs": [],
   "source": [
    "allmonths['Month']=allmonths['Order Date'].dt.month_name()"
   ]
  },
  {
   "cell_type": "code",
   "execution_count": 27,
   "id": "98606a51",
   "metadata": {},
   "outputs": [
    {
     "data": {
      "text/html": [
       "<div>\n",
       "<style scoped>\n",
       "    .dataframe tbody tr th:only-of-type {\n",
       "        vertical-align: middle;\n",
       "    }\n",
       "\n",
       "    .dataframe tbody tr th {\n",
       "        vertical-align: top;\n",
       "    }\n",
       "\n",
       "    .dataframe thead th {\n",
       "        text-align: right;\n",
       "    }\n",
       "</style>\n",
       "<table border=\"1\" class=\"dataframe\">\n",
       "  <thead>\n",
       "    <tr style=\"text-align: right;\">\n",
       "      <th></th>\n",
       "      <th>Order ID</th>\n",
       "      <th>Product</th>\n",
       "      <th>Quantity Ordered</th>\n",
       "      <th>Price Each</th>\n",
       "      <th>Order Date</th>\n",
       "      <th>Purchase Address</th>\n",
       "      <th>Month</th>\n",
       "    </tr>\n",
       "  </thead>\n",
       "  <tbody>\n",
       "    <tr>\n",
       "      <th>0</th>\n",
       "      <td>176558</td>\n",
       "      <td>USB-C Charging Cable</td>\n",
       "      <td>2</td>\n",
       "      <td>11.95</td>\n",
       "      <td>2019-04-19 08:46:00</td>\n",
       "      <td>917 1st St, Dallas, TX 75001</td>\n",
       "      <td>April</td>\n",
       "    </tr>\n",
       "    <tr>\n",
       "      <th>2</th>\n",
       "      <td>176559</td>\n",
       "      <td>Bose SoundSport Headphones</td>\n",
       "      <td>1</td>\n",
       "      <td>99.99</td>\n",
       "      <td>2019-04-07 22:30:00</td>\n",
       "      <td>682 Chestnut St, Boston, MA 02215</td>\n",
       "      <td>April</td>\n",
       "    </tr>\n",
       "    <tr>\n",
       "      <th>3</th>\n",
       "      <td>176560</td>\n",
       "      <td>Google Phone</td>\n",
       "      <td>1</td>\n",
       "      <td>600</td>\n",
       "      <td>2019-04-12 14:38:00</td>\n",
       "      <td>669 Spruce St, Los Angeles, CA 90001</td>\n",
       "      <td>April</td>\n",
       "    </tr>\n",
       "    <tr>\n",
       "      <th>4</th>\n",
       "      <td>176560</td>\n",
       "      <td>Wired Headphones</td>\n",
       "      <td>1</td>\n",
       "      <td>11.99</td>\n",
       "      <td>2019-04-12 14:38:00</td>\n",
       "      <td>669 Spruce St, Los Angeles, CA 90001</td>\n",
       "      <td>April</td>\n",
       "    </tr>\n",
       "    <tr>\n",
       "      <th>5</th>\n",
       "      <td>176561</td>\n",
       "      <td>Wired Headphones</td>\n",
       "      <td>1</td>\n",
       "      <td>11.99</td>\n",
       "      <td>2019-04-30 09:27:00</td>\n",
       "      <td>333 8th St, Los Angeles, CA 90001</td>\n",
       "      <td>April</td>\n",
       "    </tr>\n",
       "    <tr>\n",
       "      <th>...</th>\n",
       "      <td>...</td>\n",
       "      <td>...</td>\n",
       "      <td>...</td>\n",
       "      <td>...</td>\n",
       "      <td>...</td>\n",
       "      <td>...</td>\n",
       "      <td>...</td>\n",
       "    </tr>\n",
       "    <tr>\n",
       "      <th>11681</th>\n",
       "      <td>259353</td>\n",
       "      <td>AAA Batteries (4-pack)</td>\n",
       "      <td>3</td>\n",
       "      <td>2.99</td>\n",
       "      <td>2019-09-17 20:56:00</td>\n",
       "      <td>840 Highland St, Los Angeles, CA 90001</td>\n",
       "      <td>September</td>\n",
       "    </tr>\n",
       "    <tr>\n",
       "      <th>11682</th>\n",
       "      <td>259354</td>\n",
       "      <td>iPhone</td>\n",
       "      <td>1</td>\n",
       "      <td>700</td>\n",
       "      <td>2019-09-01 16:00:00</td>\n",
       "      <td>216 Dogwood St, San Francisco, CA 94016</td>\n",
       "      <td>September</td>\n",
       "    </tr>\n",
       "    <tr>\n",
       "      <th>11683</th>\n",
       "      <td>259355</td>\n",
       "      <td>iPhone</td>\n",
       "      <td>1</td>\n",
       "      <td>700</td>\n",
       "      <td>2019-09-23 07:39:00</td>\n",
       "      <td>220 12th St, San Francisco, CA 94016</td>\n",
       "      <td>September</td>\n",
       "    </tr>\n",
       "    <tr>\n",
       "      <th>11684</th>\n",
       "      <td>259356</td>\n",
       "      <td>34in Ultrawide Monitor</td>\n",
       "      <td>1</td>\n",
       "      <td>379.99</td>\n",
       "      <td>2019-09-19 17:30:00</td>\n",
       "      <td>511 Forest St, San Francisco, CA 94016</td>\n",
       "      <td>September</td>\n",
       "    </tr>\n",
       "    <tr>\n",
       "      <th>11685</th>\n",
       "      <td>259357</td>\n",
       "      <td>USB-C Charging Cable</td>\n",
       "      <td>1</td>\n",
       "      <td>11.95</td>\n",
       "      <td>2019-09-30 00:18:00</td>\n",
       "      <td>250 Meadow St, San Francisco, CA 94016</td>\n",
       "      <td>September</td>\n",
       "    </tr>\n",
       "  </tbody>\n",
       "</table>\n",
       "<p>185675 rows × 7 columns</p>\n",
       "</div>"
      ],
      "text/plain": [
       "      Order ID                     Product Quantity Ordered Price Each  \\\n",
       "0       176558        USB-C Charging Cable                2      11.95   \n",
       "2       176559  Bose SoundSport Headphones                1      99.99   \n",
       "3       176560                Google Phone                1        600   \n",
       "4       176560            Wired Headphones                1      11.99   \n",
       "5       176561            Wired Headphones                1      11.99   \n",
       "...        ...                         ...              ...        ...   \n",
       "11681   259353      AAA Batteries (4-pack)                3       2.99   \n",
       "11682   259354                      iPhone                1        700   \n",
       "11683   259355                      iPhone                1        700   \n",
       "11684   259356      34in Ultrawide Monitor                1     379.99   \n",
       "11685   259357        USB-C Charging Cable                1      11.95   \n",
       "\n",
       "               Order Date                         Purchase Address      Month  \n",
       "0     2019-04-19 08:46:00             917 1st St, Dallas, TX 75001      April  \n",
       "2     2019-04-07 22:30:00        682 Chestnut St, Boston, MA 02215      April  \n",
       "3     2019-04-12 14:38:00     669 Spruce St, Los Angeles, CA 90001      April  \n",
       "4     2019-04-12 14:38:00     669 Spruce St, Los Angeles, CA 90001      April  \n",
       "5     2019-04-30 09:27:00        333 8th St, Los Angeles, CA 90001      April  \n",
       "...                   ...                                      ...        ...  \n",
       "11681 2019-09-17 20:56:00   840 Highland St, Los Angeles, CA 90001  September  \n",
       "11682 2019-09-01 16:00:00  216 Dogwood St, San Francisco, CA 94016  September  \n",
       "11683 2019-09-23 07:39:00     220 12th St, San Francisco, CA 94016  September  \n",
       "11684 2019-09-19 17:30:00   511 Forest St, San Francisco, CA 94016  September  \n",
       "11685 2019-09-30 00:18:00   250 Meadow St, San Francisco, CA 94016  September  \n",
       "\n",
       "[185675 rows x 7 columns]"
      ]
     },
     "execution_count": 27,
     "metadata": {},
     "output_type": "execute_result"
    }
   ],
   "source": [
    "allmonths"
   ]
  },
  {
   "cell_type": "markdown",
   "id": "726bfe10",
   "metadata": {},
   "source": [
    "## Adding to DF a Day column"
   ]
  },
  {
   "cell_type": "code",
   "execution_count": 28,
   "id": "5e3e110d",
   "metadata": {},
   "outputs": [],
   "source": [
    "allmonths['Day']=allmonths['Order Date'].dt.day_name()"
   ]
  },
  {
   "cell_type": "code",
   "execution_count": 29,
   "id": "525ae5c9",
   "metadata": {},
   "outputs": [
    {
     "data": {
      "text/html": [
       "<div>\n",
       "<style scoped>\n",
       "    .dataframe tbody tr th:only-of-type {\n",
       "        vertical-align: middle;\n",
       "    }\n",
       "\n",
       "    .dataframe tbody tr th {\n",
       "        vertical-align: top;\n",
       "    }\n",
       "\n",
       "    .dataframe thead th {\n",
       "        text-align: right;\n",
       "    }\n",
       "</style>\n",
       "<table border=\"1\" class=\"dataframe\">\n",
       "  <thead>\n",
       "    <tr style=\"text-align: right;\">\n",
       "      <th></th>\n",
       "      <th>Order ID</th>\n",
       "      <th>Product</th>\n",
       "      <th>Quantity Ordered</th>\n",
       "      <th>Price Each</th>\n",
       "      <th>Order Date</th>\n",
       "      <th>Purchase Address</th>\n",
       "      <th>Month</th>\n",
       "      <th>Day</th>\n",
       "    </tr>\n",
       "  </thead>\n",
       "  <tbody>\n",
       "    <tr>\n",
       "      <th>0</th>\n",
       "      <td>176558</td>\n",
       "      <td>USB-C Charging Cable</td>\n",
       "      <td>2</td>\n",
       "      <td>11.95</td>\n",
       "      <td>2019-04-19 08:46:00</td>\n",
       "      <td>917 1st St, Dallas, TX 75001</td>\n",
       "      <td>April</td>\n",
       "      <td>Friday</td>\n",
       "    </tr>\n",
       "    <tr>\n",
       "      <th>2</th>\n",
       "      <td>176559</td>\n",
       "      <td>Bose SoundSport Headphones</td>\n",
       "      <td>1</td>\n",
       "      <td>99.99</td>\n",
       "      <td>2019-04-07 22:30:00</td>\n",
       "      <td>682 Chestnut St, Boston, MA 02215</td>\n",
       "      <td>April</td>\n",
       "      <td>Sunday</td>\n",
       "    </tr>\n",
       "    <tr>\n",
       "      <th>3</th>\n",
       "      <td>176560</td>\n",
       "      <td>Google Phone</td>\n",
       "      <td>1</td>\n",
       "      <td>600</td>\n",
       "      <td>2019-04-12 14:38:00</td>\n",
       "      <td>669 Spruce St, Los Angeles, CA 90001</td>\n",
       "      <td>April</td>\n",
       "      <td>Friday</td>\n",
       "    </tr>\n",
       "    <tr>\n",
       "      <th>4</th>\n",
       "      <td>176560</td>\n",
       "      <td>Wired Headphones</td>\n",
       "      <td>1</td>\n",
       "      <td>11.99</td>\n",
       "      <td>2019-04-12 14:38:00</td>\n",
       "      <td>669 Spruce St, Los Angeles, CA 90001</td>\n",
       "      <td>April</td>\n",
       "      <td>Friday</td>\n",
       "    </tr>\n",
       "    <tr>\n",
       "      <th>5</th>\n",
       "      <td>176561</td>\n",
       "      <td>Wired Headphones</td>\n",
       "      <td>1</td>\n",
       "      <td>11.99</td>\n",
       "      <td>2019-04-30 09:27:00</td>\n",
       "      <td>333 8th St, Los Angeles, CA 90001</td>\n",
       "      <td>April</td>\n",
       "      <td>Tuesday</td>\n",
       "    </tr>\n",
       "    <tr>\n",
       "      <th>...</th>\n",
       "      <td>...</td>\n",
       "      <td>...</td>\n",
       "      <td>...</td>\n",
       "      <td>...</td>\n",
       "      <td>...</td>\n",
       "      <td>...</td>\n",
       "      <td>...</td>\n",
       "      <td>...</td>\n",
       "    </tr>\n",
       "    <tr>\n",
       "      <th>11681</th>\n",
       "      <td>259353</td>\n",
       "      <td>AAA Batteries (4-pack)</td>\n",
       "      <td>3</td>\n",
       "      <td>2.99</td>\n",
       "      <td>2019-09-17 20:56:00</td>\n",
       "      <td>840 Highland St, Los Angeles, CA 90001</td>\n",
       "      <td>September</td>\n",
       "      <td>Tuesday</td>\n",
       "    </tr>\n",
       "    <tr>\n",
       "      <th>11682</th>\n",
       "      <td>259354</td>\n",
       "      <td>iPhone</td>\n",
       "      <td>1</td>\n",
       "      <td>700</td>\n",
       "      <td>2019-09-01 16:00:00</td>\n",
       "      <td>216 Dogwood St, San Francisco, CA 94016</td>\n",
       "      <td>September</td>\n",
       "      <td>Sunday</td>\n",
       "    </tr>\n",
       "    <tr>\n",
       "      <th>11683</th>\n",
       "      <td>259355</td>\n",
       "      <td>iPhone</td>\n",
       "      <td>1</td>\n",
       "      <td>700</td>\n",
       "      <td>2019-09-23 07:39:00</td>\n",
       "      <td>220 12th St, San Francisco, CA 94016</td>\n",
       "      <td>September</td>\n",
       "      <td>Monday</td>\n",
       "    </tr>\n",
       "    <tr>\n",
       "      <th>11684</th>\n",
       "      <td>259356</td>\n",
       "      <td>34in Ultrawide Monitor</td>\n",
       "      <td>1</td>\n",
       "      <td>379.99</td>\n",
       "      <td>2019-09-19 17:30:00</td>\n",
       "      <td>511 Forest St, San Francisco, CA 94016</td>\n",
       "      <td>September</td>\n",
       "      <td>Thursday</td>\n",
       "    </tr>\n",
       "    <tr>\n",
       "      <th>11685</th>\n",
       "      <td>259357</td>\n",
       "      <td>USB-C Charging Cable</td>\n",
       "      <td>1</td>\n",
       "      <td>11.95</td>\n",
       "      <td>2019-09-30 00:18:00</td>\n",
       "      <td>250 Meadow St, San Francisco, CA 94016</td>\n",
       "      <td>September</td>\n",
       "      <td>Monday</td>\n",
       "    </tr>\n",
       "  </tbody>\n",
       "</table>\n",
       "<p>185675 rows × 8 columns</p>\n",
       "</div>"
      ],
      "text/plain": [
       "      Order ID                     Product Quantity Ordered Price Each  \\\n",
       "0       176558        USB-C Charging Cable                2      11.95   \n",
       "2       176559  Bose SoundSport Headphones                1      99.99   \n",
       "3       176560                Google Phone                1        600   \n",
       "4       176560            Wired Headphones                1      11.99   \n",
       "5       176561            Wired Headphones                1      11.99   \n",
       "...        ...                         ...              ...        ...   \n",
       "11681   259353      AAA Batteries (4-pack)                3       2.99   \n",
       "11682   259354                      iPhone                1        700   \n",
       "11683   259355                      iPhone                1        700   \n",
       "11684   259356      34in Ultrawide Monitor                1     379.99   \n",
       "11685   259357        USB-C Charging Cable                1      11.95   \n",
       "\n",
       "               Order Date                         Purchase Address      Month  \\\n",
       "0     2019-04-19 08:46:00             917 1st St, Dallas, TX 75001      April   \n",
       "2     2019-04-07 22:30:00        682 Chestnut St, Boston, MA 02215      April   \n",
       "3     2019-04-12 14:38:00     669 Spruce St, Los Angeles, CA 90001      April   \n",
       "4     2019-04-12 14:38:00     669 Spruce St, Los Angeles, CA 90001      April   \n",
       "5     2019-04-30 09:27:00        333 8th St, Los Angeles, CA 90001      April   \n",
       "...                   ...                                      ...        ...   \n",
       "11681 2019-09-17 20:56:00   840 Highland St, Los Angeles, CA 90001  September   \n",
       "11682 2019-09-01 16:00:00  216 Dogwood St, San Francisco, CA 94016  September   \n",
       "11683 2019-09-23 07:39:00     220 12th St, San Francisco, CA 94016  September   \n",
       "11684 2019-09-19 17:30:00   511 Forest St, San Francisco, CA 94016  September   \n",
       "11685 2019-09-30 00:18:00   250 Meadow St, San Francisco, CA 94016  September   \n",
       "\n",
       "            Day  \n",
       "0        Friday  \n",
       "2        Sunday  \n",
       "3        Friday  \n",
       "4        Friday  \n",
       "5       Tuesday  \n",
       "...         ...  \n",
       "11681   Tuesday  \n",
       "11682    Sunday  \n",
       "11683    Monday  \n",
       "11684  Thursday  \n",
       "11685    Monday  \n",
       "\n",
       "[185675 rows x 8 columns]"
      ]
     },
     "execution_count": 29,
     "metadata": {},
     "output_type": "execute_result"
    }
   ],
   "source": [
    "allmonths"
   ]
  },
  {
   "cell_type": "markdown",
   "id": "7f310243",
   "metadata": {},
   "source": [
    "## Adding Sales Column "
   ]
  },
  {
   "cell_type": "code",
   "execution_count": 30,
   "id": "03b88bf8",
   "metadata": {},
   "outputs": [],
   "source": [
    "allmonths.dropna(inplace=True)"
   ]
  },
  {
   "cell_type": "code",
   "execution_count": 31,
   "id": "bdb48e4f",
   "metadata": {},
   "outputs": [
    {
     "name": "stdout",
     "output_type": "stream",
     "text": [
      "<class 'pandas.core.frame.DataFrame'>\n",
      "Index: 185675 entries, 0 to 11685\n",
      "Data columns (total 8 columns):\n",
      " #   Column            Non-Null Count   Dtype         \n",
      "---  ------            --------------   -----         \n",
      " 0   Order ID          185675 non-null  object        \n",
      " 1   Product           185675 non-null  object        \n",
      " 2   Quantity Ordered  185675 non-null  object        \n",
      " 3   Price Each        185675 non-null  object        \n",
      " 4   Order Date        185675 non-null  datetime64[ns]\n",
      " 5   Purchase Address  185675 non-null  object        \n",
      " 6   Month             185675 non-null  object        \n",
      " 7   Day               185675 non-null  object        \n",
      "dtypes: datetime64[ns](1), object(7)\n",
      "memory usage: 12.7+ MB\n"
     ]
    }
   ],
   "source": [
    "allmonths.info()"
   ]
  },
  {
   "cell_type": "code",
   "execution_count": 32,
   "id": "b2daf0e5",
   "metadata": {},
   "outputs": [],
   "source": [
    "allmonths['Price Each']=pd.to_numeric(allmonths['Price Each'])"
   ]
  },
  {
   "cell_type": "code",
   "execution_count": 33,
   "id": "316c79f2",
   "metadata": {},
   "outputs": [],
   "source": [
    "allmonths['Quantity Ordered']=pd.to_numeric(allmonths['Quantity Ordered'])"
   ]
  },
  {
   "cell_type": "code",
   "execution_count": 34,
   "id": "a55e7fbc",
   "metadata": {},
   "outputs": [
    {
     "data": {
      "text/plain": [
       "0        <class 'float'>\n",
       "2        <class 'float'>\n",
       "3        <class 'float'>\n",
       "4        <class 'float'>\n",
       "5        <class 'float'>\n",
       "              ...       \n",
       "11681    <class 'float'>\n",
       "11682    <class 'float'>\n",
       "11683    <class 'float'>\n",
       "11684    <class 'float'>\n",
       "11685    <class 'float'>\n",
       "Name: Price Each, Length: 185675, dtype: object"
      ]
     },
     "execution_count": 34,
     "metadata": {},
     "output_type": "execute_result"
    }
   ],
   "source": [
    "allmonths['Price Each'].apply(lambda x : type(x))"
   ]
  },
  {
   "cell_type": "code",
   "execution_count": 35,
   "id": "be57a570",
   "metadata": {},
   "outputs": [
    {
     "data": {
      "text/plain": [
       "0        <class 'int'>\n",
       "2        <class 'int'>\n",
       "3        <class 'int'>\n",
       "4        <class 'int'>\n",
       "5        <class 'int'>\n",
       "             ...      \n",
       "11681    <class 'int'>\n",
       "11682    <class 'int'>\n",
       "11683    <class 'int'>\n",
       "11684    <class 'int'>\n",
       "11685    <class 'int'>\n",
       "Name: Quantity Ordered, Length: 185675, dtype: object"
      ]
     },
     "execution_count": 35,
     "metadata": {},
     "output_type": "execute_result"
    }
   ],
   "source": [
    "allmonths['Quantity Ordered'].apply(lambda x : type(x))"
   ]
  },
  {
   "cell_type": "code",
   "execution_count": 36,
   "id": "25fd3db0",
   "metadata": {},
   "outputs": [],
   "source": [
    "allmonths['Sales']=allmonths['Quantity Ordered']*allmonths['Price Each']"
   ]
  },
  {
   "cell_type": "code",
   "execution_count": 37,
   "id": "0cb0e1ca",
   "metadata": {},
   "outputs": [
    {
     "data": {
      "text/html": [
       "<div>\n",
       "<style scoped>\n",
       "    .dataframe tbody tr th:only-of-type {\n",
       "        vertical-align: middle;\n",
       "    }\n",
       "\n",
       "    .dataframe tbody tr th {\n",
       "        vertical-align: top;\n",
       "    }\n",
       "\n",
       "    .dataframe thead th {\n",
       "        text-align: right;\n",
       "    }\n",
       "</style>\n",
       "<table border=\"1\" class=\"dataframe\">\n",
       "  <thead>\n",
       "    <tr style=\"text-align: right;\">\n",
       "      <th></th>\n",
       "      <th>Order ID</th>\n",
       "      <th>Product</th>\n",
       "      <th>Quantity Ordered</th>\n",
       "      <th>Price Each</th>\n",
       "      <th>Order Date</th>\n",
       "      <th>Purchase Address</th>\n",
       "      <th>Month</th>\n",
       "      <th>Day</th>\n",
       "      <th>Sales</th>\n",
       "    </tr>\n",
       "  </thead>\n",
       "  <tbody>\n",
       "    <tr>\n",
       "      <th>0</th>\n",
       "      <td>176558</td>\n",
       "      <td>USB-C Charging Cable</td>\n",
       "      <td>2</td>\n",
       "      <td>11.95</td>\n",
       "      <td>2019-04-19 08:46:00</td>\n",
       "      <td>917 1st St, Dallas, TX 75001</td>\n",
       "      <td>April</td>\n",
       "      <td>Friday</td>\n",
       "      <td>23.90</td>\n",
       "    </tr>\n",
       "    <tr>\n",
       "      <th>2</th>\n",
       "      <td>176559</td>\n",
       "      <td>Bose SoundSport Headphones</td>\n",
       "      <td>1</td>\n",
       "      <td>99.99</td>\n",
       "      <td>2019-04-07 22:30:00</td>\n",
       "      <td>682 Chestnut St, Boston, MA 02215</td>\n",
       "      <td>April</td>\n",
       "      <td>Sunday</td>\n",
       "      <td>99.99</td>\n",
       "    </tr>\n",
       "    <tr>\n",
       "      <th>3</th>\n",
       "      <td>176560</td>\n",
       "      <td>Google Phone</td>\n",
       "      <td>1</td>\n",
       "      <td>600.00</td>\n",
       "      <td>2019-04-12 14:38:00</td>\n",
       "      <td>669 Spruce St, Los Angeles, CA 90001</td>\n",
       "      <td>April</td>\n",
       "      <td>Friday</td>\n",
       "      <td>600.00</td>\n",
       "    </tr>\n",
       "    <tr>\n",
       "      <th>4</th>\n",
       "      <td>176560</td>\n",
       "      <td>Wired Headphones</td>\n",
       "      <td>1</td>\n",
       "      <td>11.99</td>\n",
       "      <td>2019-04-12 14:38:00</td>\n",
       "      <td>669 Spruce St, Los Angeles, CA 90001</td>\n",
       "      <td>April</td>\n",
       "      <td>Friday</td>\n",
       "      <td>11.99</td>\n",
       "    </tr>\n",
       "    <tr>\n",
       "      <th>5</th>\n",
       "      <td>176561</td>\n",
       "      <td>Wired Headphones</td>\n",
       "      <td>1</td>\n",
       "      <td>11.99</td>\n",
       "      <td>2019-04-30 09:27:00</td>\n",
       "      <td>333 8th St, Los Angeles, CA 90001</td>\n",
       "      <td>April</td>\n",
       "      <td>Tuesday</td>\n",
       "      <td>11.99</td>\n",
       "    </tr>\n",
       "    <tr>\n",
       "      <th>...</th>\n",
       "      <td>...</td>\n",
       "      <td>...</td>\n",
       "      <td>...</td>\n",
       "      <td>...</td>\n",
       "      <td>...</td>\n",
       "      <td>...</td>\n",
       "      <td>...</td>\n",
       "      <td>...</td>\n",
       "      <td>...</td>\n",
       "    </tr>\n",
       "    <tr>\n",
       "      <th>11681</th>\n",
       "      <td>259353</td>\n",
       "      <td>AAA Batteries (4-pack)</td>\n",
       "      <td>3</td>\n",
       "      <td>2.99</td>\n",
       "      <td>2019-09-17 20:56:00</td>\n",
       "      <td>840 Highland St, Los Angeles, CA 90001</td>\n",
       "      <td>September</td>\n",
       "      <td>Tuesday</td>\n",
       "      <td>8.97</td>\n",
       "    </tr>\n",
       "    <tr>\n",
       "      <th>11682</th>\n",
       "      <td>259354</td>\n",
       "      <td>iPhone</td>\n",
       "      <td>1</td>\n",
       "      <td>700.00</td>\n",
       "      <td>2019-09-01 16:00:00</td>\n",
       "      <td>216 Dogwood St, San Francisco, CA 94016</td>\n",
       "      <td>September</td>\n",
       "      <td>Sunday</td>\n",
       "      <td>700.00</td>\n",
       "    </tr>\n",
       "    <tr>\n",
       "      <th>11683</th>\n",
       "      <td>259355</td>\n",
       "      <td>iPhone</td>\n",
       "      <td>1</td>\n",
       "      <td>700.00</td>\n",
       "      <td>2019-09-23 07:39:00</td>\n",
       "      <td>220 12th St, San Francisco, CA 94016</td>\n",
       "      <td>September</td>\n",
       "      <td>Monday</td>\n",
       "      <td>700.00</td>\n",
       "    </tr>\n",
       "    <tr>\n",
       "      <th>11684</th>\n",
       "      <td>259356</td>\n",
       "      <td>34in Ultrawide Monitor</td>\n",
       "      <td>1</td>\n",
       "      <td>379.99</td>\n",
       "      <td>2019-09-19 17:30:00</td>\n",
       "      <td>511 Forest St, San Francisco, CA 94016</td>\n",
       "      <td>September</td>\n",
       "      <td>Thursday</td>\n",
       "      <td>379.99</td>\n",
       "    </tr>\n",
       "    <tr>\n",
       "      <th>11685</th>\n",
       "      <td>259357</td>\n",
       "      <td>USB-C Charging Cable</td>\n",
       "      <td>1</td>\n",
       "      <td>11.95</td>\n",
       "      <td>2019-09-30 00:18:00</td>\n",
       "      <td>250 Meadow St, San Francisco, CA 94016</td>\n",
       "      <td>September</td>\n",
       "      <td>Monday</td>\n",
       "      <td>11.95</td>\n",
       "    </tr>\n",
       "  </tbody>\n",
       "</table>\n",
       "<p>185675 rows × 9 columns</p>\n",
       "</div>"
      ],
      "text/plain": [
       "      Order ID                     Product  Quantity Ordered  Price Each  \\\n",
       "0       176558        USB-C Charging Cable                 2       11.95   \n",
       "2       176559  Bose SoundSport Headphones                 1       99.99   \n",
       "3       176560                Google Phone                 1      600.00   \n",
       "4       176560            Wired Headphones                 1       11.99   \n",
       "5       176561            Wired Headphones                 1       11.99   \n",
       "...        ...                         ...               ...         ...   \n",
       "11681   259353      AAA Batteries (4-pack)                 3        2.99   \n",
       "11682   259354                      iPhone                 1      700.00   \n",
       "11683   259355                      iPhone                 1      700.00   \n",
       "11684   259356      34in Ultrawide Monitor                 1      379.99   \n",
       "11685   259357        USB-C Charging Cable                 1       11.95   \n",
       "\n",
       "               Order Date                         Purchase Address      Month  \\\n",
       "0     2019-04-19 08:46:00             917 1st St, Dallas, TX 75001      April   \n",
       "2     2019-04-07 22:30:00        682 Chestnut St, Boston, MA 02215      April   \n",
       "3     2019-04-12 14:38:00     669 Spruce St, Los Angeles, CA 90001      April   \n",
       "4     2019-04-12 14:38:00     669 Spruce St, Los Angeles, CA 90001      April   \n",
       "5     2019-04-30 09:27:00        333 8th St, Los Angeles, CA 90001      April   \n",
       "...                   ...                                      ...        ...   \n",
       "11681 2019-09-17 20:56:00   840 Highland St, Los Angeles, CA 90001  September   \n",
       "11682 2019-09-01 16:00:00  216 Dogwood St, San Francisco, CA 94016  September   \n",
       "11683 2019-09-23 07:39:00     220 12th St, San Francisco, CA 94016  September   \n",
       "11684 2019-09-19 17:30:00   511 Forest St, San Francisco, CA 94016  September   \n",
       "11685 2019-09-30 00:18:00   250 Meadow St, San Francisco, CA 94016  September   \n",
       "\n",
       "            Day   Sales  \n",
       "0        Friday   23.90  \n",
       "2        Sunday   99.99  \n",
       "3        Friday  600.00  \n",
       "4        Friday   11.99  \n",
       "5       Tuesday   11.99  \n",
       "...         ...     ...  \n",
       "11681   Tuesday    8.97  \n",
       "11682    Sunday  700.00  \n",
       "11683    Monday  700.00  \n",
       "11684  Thursday  379.99  \n",
       "11685    Monday   11.95  \n",
       "\n",
       "[185675 rows x 9 columns]"
      ]
     },
     "execution_count": 37,
     "metadata": {},
     "output_type": "execute_result"
    }
   ],
   "source": [
    "allmonths"
   ]
  },
  {
   "cell_type": "markdown",
   "id": "e2895908",
   "metadata": {},
   "source": [
    "## Sales across Months"
   ]
  },
  {
   "cell_type": "code",
   "execution_count": 70,
   "id": "e9c499fa",
   "metadata": {},
   "outputs": [
    {
     "data": {
      "text/plain": [
       "<Axes: xlabel='Month', ylabel='Sales'>"
      ]
     },
     "execution_count": 70,
     "metadata": {},
     "output_type": "execute_result"
    },
    {
     "data": {
      "image/png": "[encoded data removed]",
      "text/plain": [
       "<Figure size 640x480 with 1 Axes>"
      ]
     },
     "metadata": {},
     "output_type": "display_data"
    }
   ],
   "source": [
    "allmonths[['Month','Sales']].groupby('Month').sum().sort_values('Sales').plot(kind='bar',color='green',ylabel='Sales')"
   ]
  },
  {
   "cell_type": "markdown",
   "id": "167c3046",
   "metadata": {},
   "source": [
    "## Orders across Days"
   ]
  },
  {
   "cell_type": "code",
   "execution_count": 39,
   "id": "a2482ffb",
   "metadata": {},
   "outputs": [
    {
     "data": {
      "text/plain": [
       "Day\n",
       "Tuesday      26061\n",
       "Monday       25493\n",
       "Sunday       25481\n",
       "Saturday     25417\n",
       "Wednesday    25391\n",
       "Thursday     25367\n",
       "Friday       25216\n",
       "Name: count, dtype: int64"
      ]
     },
     "execution_count": 39,
     "metadata": {},
     "output_type": "execute_result"
    }
   ],
   "source": [
    "daysdf=allmonths.drop_duplicates(subset='Order ID')\n",
    "daysdf['Day'].value_counts()"
   ]
  },
  {
   "cell_type": "markdown",
   "id": "2942205f",
   "metadata": {},
   "source": [
    "## From this chart we can know when holiday is allowed and when not "
   ]
  },
  {
   "cell_type": "code",
   "execution_count": 40,
   "id": "f4efb7ba",
   "metadata": {},
   "outputs": [
    {
     "data": {
      "text/plain": [
       "<Axes: xlabel='Day', ylabel='Num of Orders'>"
      ]
     },
     "execution_count": 40,
     "metadata": {},
     "output_type": "execute_result"
    },
    {
     "data": {
      "image/png": "[encoded data removed]",
      "text/plain": [
       "<Figure size 640x480 with 1 Axes>"
      ]
     },
     "metadata": {},
     "output_type": "display_data"
    }
   ],
   "source": [
    "daysdf['Day'].value_counts().plot(kind='line',ylabel='Num of Orders')"
   ]
  },
  {
   "cell_type": "markdown",
   "id": "b45ab1bb",
   "metadata": {},
   "source": [
    "## Adding city column to allmonths DF"
   ]
  },
  {
   "cell_type": "code",
   "execution_count": 41,
   "id": "0e6f3976",
   "metadata": {},
   "outputs": [],
   "source": [
    "allmonths['City']=allmonths['Purchase Address'].str.split(',').str[1]\n",
    "# another method allmonths['Purchase Address'].apply(lambda x : x.split(',')[1])"
   ]
  },
  {
   "cell_type": "code",
   "execution_count": 42,
   "id": "a8d8b3bc",
   "metadata": {},
   "outputs": [
    {
     "data": {
      "text/html": [
       "<div>\n",
       "<style scoped>\n",
       "    .dataframe tbody tr th:only-of-type {\n",
       "        vertical-align: middle;\n",
       "    }\n",
       "\n",
       "    .dataframe tbody tr th {\n",
       "        vertical-align: top;\n",
       "    }\n",
       "\n",
       "    .dataframe thead th {\n",
       "        text-align: right;\n",
       "    }\n",
       "</style>\n",
       "<table border=\"1\" class=\"dataframe\">\n",
       "  <thead>\n",
       "    <tr style=\"text-align: right;\">\n",
       "      <th></th>\n",
       "      <th>Order ID</th>\n",
       "      <th>Product</th>\n",
       "      <th>Quantity Ordered</th>\n",
       "      <th>Price Each</th>\n",
       "      <th>Order Date</th>\n",
       "      <th>Purchase Address</th>\n",
       "      <th>Month</th>\n",
       "      <th>Day</th>\n",
       "      <th>Sales</th>\n",
       "      <th>City</th>\n",
       "    </tr>\n",
       "  </thead>\n",
       "  <tbody>\n",
       "    <tr>\n",
       "      <th>6507</th>\n",
       "      <td>168218</td>\n",
       "      <td>Lightning Charging Cable</td>\n",
       "      <td>1</td>\n",
       "      <td>14.95</td>\n",
       "      <td>2019-03-19 13:00:00</td>\n",
       "      <td>437 14th St, San Francisco, CA 94016</td>\n",
       "      <td>March</td>\n",
       "      <td>Tuesday</td>\n",
       "      <td>14.95</td>\n",
       "      <td>San Francisco</td>\n",
       "    </tr>\n",
       "    <tr>\n",
       "      <th>8515</th>\n",
       "      <td>303782</td>\n",
       "      <td>AA Batteries (4-pack)</td>\n",
       "      <td>2</td>\n",
       "      <td>3.84</td>\n",
       "      <td>2019-12-06 19:32:00</td>\n",
       "      <td>609 Spruce St, San Francisco, CA 94016</td>\n",
       "      <td>December</td>\n",
       "      <td>Friday</td>\n",
       "      <td>7.68</td>\n",
       "      <td>San Francisco</td>\n",
       "    </tr>\n",
       "    <tr>\n",
       "      <th>765</th>\n",
       "      <td>223647</td>\n",
       "      <td>ThinkPad Laptop</td>\n",
       "      <td>1</td>\n",
       "      <td>999.99</td>\n",
       "      <td>2019-07-10 19:58:00</td>\n",
       "      <td>831 Washington St, Dallas, TX 75001</td>\n",
       "      <td>July</td>\n",
       "      <td>Wednesday</td>\n",
       "      <td>999.99</td>\n",
       "      <td>Dallas</td>\n",
       "    </tr>\n",
       "    <tr>\n",
       "      <th>197</th>\n",
       "      <td>236862</td>\n",
       "      <td>27in FHD Monitor</td>\n",
       "      <td>1</td>\n",
       "      <td>149.99</td>\n",
       "      <td>2019-08-26 13:51:00</td>\n",
       "      <td>173 South St, San Francisco, CA 94016</td>\n",
       "      <td>August</td>\n",
       "      <td>Monday</td>\n",
       "      <td>149.99</td>\n",
       "      <td>San Francisco</td>\n",
       "    </tr>\n",
       "    <tr>\n",
       "      <th>12944</th>\n",
       "      <td>308019</td>\n",
       "      <td>Lightning Charging Cable</td>\n",
       "      <td>1</td>\n",
       "      <td>14.95</td>\n",
       "      <td>2019-12-04 18:27:00</td>\n",
       "      <td>69 Hickory St, Los Angeles, CA 90001</td>\n",
       "      <td>December</td>\n",
       "      <td>Wednesday</td>\n",
       "      <td>14.95</td>\n",
       "      <td>Los Angeles</td>\n",
       "    </tr>\n",
       "    <tr>\n",
       "      <th>24256</th>\n",
       "      <td>318839</td>\n",
       "      <td>Lightning Charging Cable</td>\n",
       "      <td>1</td>\n",
       "      <td>14.95</td>\n",
       "      <td>2019-12-26 06:35:00</td>\n",
       "      <td>173 9th St, Boston, MA 02215</td>\n",
       "      <td>December</td>\n",
       "      <td>Thursday</td>\n",
       "      <td>14.95</td>\n",
       "      <td>Boston</td>\n",
       "    </tr>\n",
       "    <tr>\n",
       "      <th>2990</th>\n",
       "      <td>179422</td>\n",
       "      <td>Wired Headphones</td>\n",
       "      <td>1</td>\n",
       "      <td>11.99</td>\n",
       "      <td>2019-04-28 18:32:00</td>\n",
       "      <td>451 4th St, New York City, NY 10001</td>\n",
       "      <td>April</td>\n",
       "      <td>Sunday</td>\n",
       "      <td>11.99</td>\n",
       "      <td>New York City</td>\n",
       "    </tr>\n",
       "    <tr>\n",
       "      <th>4912</th>\n",
       "      <td>166691</td>\n",
       "      <td>Wired Headphones</td>\n",
       "      <td>1</td>\n",
       "      <td>11.99</td>\n",
       "      <td>2019-03-05 12:06:00</td>\n",
       "      <td>372 14th St, Boston, MA 02215</td>\n",
       "      <td>March</td>\n",
       "      <td>Tuesday</td>\n",
       "      <td>11.99</td>\n",
       "      <td>Boston</td>\n",
       "    </tr>\n",
       "    <tr>\n",
       "      <th>13645</th>\n",
       "      <td>189565</td>\n",
       "      <td>AA Batteries (4-pack)</td>\n",
       "      <td>1</td>\n",
       "      <td>3.84</td>\n",
       "      <td>2019-04-03 01:02:00</td>\n",
       "      <td>181 Ridge St, Boston, MA 02215</td>\n",
       "      <td>April</td>\n",
       "      <td>Wednesday</td>\n",
       "      <td>3.84</td>\n",
       "      <td>Boston</td>\n",
       "    </tr>\n",
       "    <tr>\n",
       "      <th>14622</th>\n",
       "      <td>208005</td>\n",
       "      <td>AAA Batteries (4-pack)</td>\n",
       "      <td>1</td>\n",
       "      <td>2.99</td>\n",
       "      <td>2019-05-09 18:13:00</td>\n",
       "      <td>772 West St, Los Angeles, CA 90001</td>\n",
       "      <td>May</td>\n",
       "      <td>Thursday</td>\n",
       "      <td>2.99</td>\n",
       "      <td>Los Angeles</td>\n",
       "    </tr>\n",
       "  </tbody>\n",
       "</table>\n",
       "</div>"
      ],
      "text/plain": [
       "      Order ID                   Product  Quantity Ordered  Price Each  \\\n",
       "6507    168218  Lightning Charging Cable                 1       14.95   \n",
       "8515    303782     AA Batteries (4-pack)                 2        3.84   \n",
       "765     223647           ThinkPad Laptop                 1      999.99   \n",
       "197     236862          27in FHD Monitor                 1      149.99   \n",
       "12944   308019  Lightning Charging Cable                 1       14.95   \n",
       "24256   318839  Lightning Charging Cable                 1       14.95   \n",
       "2990    179422          Wired Headphones                 1       11.99   \n",
       "4912    166691          Wired Headphones                 1       11.99   \n",
       "13645   189565     AA Batteries (4-pack)                 1        3.84   \n",
       "14622   208005    AAA Batteries (4-pack)                 1        2.99   \n",
       "\n",
       "               Order Date                        Purchase Address     Month  \\\n",
       "6507  2019-03-19 13:00:00    437 14th St, San Francisco, CA 94016     March   \n",
       "8515  2019-12-06 19:32:00  609 Spruce St, San Francisco, CA 94016  December   \n",
       "765   2019-07-10 19:58:00     831 Washington St, Dallas, TX 75001      July   \n",
       "197   2019-08-26 13:51:00   173 South St, San Francisco, CA 94016    August   \n",
       "12944 2019-12-04 18:27:00    69 Hickory St, Los Angeles, CA 90001  December   \n",
       "24256 2019-12-26 06:35:00            173 9th St, Boston, MA 02215  December   \n",
       "2990  2019-04-28 18:32:00     451 4th St, New York City, NY 10001     April   \n",
       "4912  2019-03-05 12:06:00           372 14th St, Boston, MA 02215     March   \n",
       "13645 2019-04-03 01:02:00          181 Ridge St, Boston, MA 02215     April   \n",
       "14622 2019-05-09 18:13:00      772 West St, Los Angeles, CA 90001       May   \n",
       "\n",
       "             Day   Sales            City  \n",
       "6507     Tuesday   14.95   San Francisco  \n",
       "8515      Friday    7.68   San Francisco  \n",
       "765    Wednesday  999.99          Dallas  \n",
       "197       Monday  149.99   San Francisco  \n",
       "12944  Wednesday   14.95     Los Angeles  \n",
       "24256   Thursday   14.95          Boston  \n",
       "2990      Sunday   11.99   New York City  \n",
       "4912     Tuesday   11.99          Boston  \n",
       "13645  Wednesday    3.84          Boston  \n",
       "14622   Thursday    2.99     Los Angeles  "
      ]
     },
     "execution_count": 42,
     "metadata": {},
     "output_type": "execute_result"
    }
   ],
   "source": [
    "allmonths.sample(10)"
   ]
  },
  {
   "cell_type": "markdown",
   "id": "f5e89530",
   "metadata": {},
   "source": [
    "## Every City with its Sales or which city has the highest sales ?"
   ]
  },
  {
   "cell_type": "code",
   "execution_count": 62,
   "id": "b32ff06b",
   "metadata": {},
   "outputs": [
    {
     "data": {
      "text/plain": [
       "<Axes: xlabel='City', ylabel='Sales'>"
      ]
     },
     "execution_count": 62,
     "metadata": {},
     "output_type": "execute_result"
    },
    {
     "data": {
      "image/png": "[encoded data removed]",
      "text/plain": [
       "<Figure size 640x480 with 1 Axes>"
      ]
     },
     "metadata": {},
     "output_type": "display_data"
    }
   ],
   "source": [
    "allmonths.groupby('City').sum('Sales')['Sales'].sort_values().plot(kind='bar',ylabel='Sales',color='red')"
   ]
  },
  {
   "cell_type": "markdown",
   "id": "9decea7d",
   "metadata": {},
   "source": [
    "## The ten products that have the biggest Sales"
   ]
  },
  {
   "cell_type": "code",
   "execution_count": 46,
   "id": "53aeb032",
   "metadata": {},
   "outputs": [
    {
     "data": {
      "text/html": [
       "<div>\n",
       "<style scoped>\n",
       "    .dataframe tbody tr th:only-of-type {\n",
       "        vertical-align: middle;\n",
       "    }\n",
       "\n",
       "    .dataframe tbody tr th {\n",
       "        vertical-align: top;\n",
       "    }\n",
       "\n",
       "    .dataframe thead th {\n",
       "        text-align: right;\n",
       "    }\n",
       "</style>\n",
       "<table border=\"1\" class=\"dataframe\">\n",
       "  <thead>\n",
       "    <tr style=\"text-align: right;\">\n",
       "      <th></th>\n",
       "      <th>Quantity Ordered</th>\n",
       "    </tr>\n",
       "    <tr>\n",
       "      <th>Product</th>\n",
       "      <th></th>\n",
       "    </tr>\n",
       "  </thead>\n",
       "  <tbody>\n",
       "    <tr>\n",
       "      <th>AAA Batteries (4-pack)</th>\n",
       "      <td>30985</td>\n",
       "    </tr>\n",
       "    <tr>\n",
       "      <th>AA Batteries (4-pack)</th>\n",
       "      <td>27614</td>\n",
       "    </tr>\n",
       "    <tr>\n",
       "      <th>USB-C Charging Cable</th>\n",
       "      <td>23929</td>\n",
       "    </tr>\n",
       "    <tr>\n",
       "      <th>Lightning Charging Cable</th>\n",
       "      <td>23168</td>\n",
       "    </tr>\n",
       "    <tr>\n",
       "      <th>Wired Headphones</th>\n",
       "      <td>20522</td>\n",
       "    </tr>\n",
       "    <tr>\n",
       "      <th>Apple Airpods Headphones</th>\n",
       "      <td>15636</td>\n",
       "    </tr>\n",
       "    <tr>\n",
       "      <th>Bose SoundSport Headphones</th>\n",
       "      <td>13429</td>\n",
       "    </tr>\n",
       "    <tr>\n",
       "      <th>27in FHD Monitor</th>\n",
       "      <td>7541</td>\n",
       "    </tr>\n",
       "    <tr>\n",
       "      <th>iPhone</th>\n",
       "      <td>6847</td>\n",
       "    </tr>\n",
       "    <tr>\n",
       "      <th>27in 4K Gaming Monitor</th>\n",
       "      <td>6239</td>\n",
       "    </tr>\n",
       "    <tr>\n",
       "      <th>34in Ultrawide Monitor</th>\n",
       "      <td>6192</td>\n",
       "    </tr>\n",
       "    <tr>\n",
       "      <th>Google Phone</th>\n",
       "      <td>5528</td>\n",
       "    </tr>\n",
       "    <tr>\n",
       "      <th>Flatscreen TV</th>\n",
       "      <td>4813</td>\n",
       "    </tr>\n",
       "    <tr>\n",
       "      <th>Macbook Pro Laptop</th>\n",
       "      <td>4725</td>\n",
       "    </tr>\n",
       "    <tr>\n",
       "      <th>ThinkPad Laptop</th>\n",
       "      <td>4128</td>\n",
       "    </tr>\n",
       "    <tr>\n",
       "      <th>20in Monitor</th>\n",
       "      <td>4125</td>\n",
       "    </tr>\n",
       "    <tr>\n",
       "      <th>Vareebadd Phone</th>\n",
       "      <td>2068</td>\n",
       "    </tr>\n",
       "    <tr>\n",
       "      <th>LG Washing Machine</th>\n",
       "      <td>666</td>\n",
       "    </tr>\n",
       "    <tr>\n",
       "      <th>LG Dryer</th>\n",
       "      <td>646</td>\n",
       "    </tr>\n",
       "  </tbody>\n",
       "</table>\n",
       "</div>"
      ],
      "text/plain": [
       "                            Quantity Ordered\n",
       "Product                                     \n",
       "AAA Batteries (4-pack)                 30985\n",
       "AA Batteries (4-pack)                  27614\n",
       "USB-C Charging Cable                   23929\n",
       "Lightning Charging Cable               23168\n",
       "Wired Headphones                       20522\n",
       "Apple Airpods Headphones               15636\n",
       "Bose SoundSport Headphones             13429\n",
       "27in FHD Monitor                        7541\n",
       "iPhone                                  6847\n",
       "27in 4K Gaming Monitor                  6239\n",
       "34in Ultrawide Monitor                  6192\n",
       "Google Phone                            5528\n",
       "Flatscreen TV                           4813\n",
       "Macbook Pro Laptop                      4725\n",
       "ThinkPad Laptop                         4128\n",
       "20in Monitor                            4125\n",
       "Vareebadd Phone                         2068\n",
       "LG Washing Machine                       666\n",
       "LG Dryer                                 646"
      ]
     },
     "execution_count": 46,
     "metadata": {},
     "output_type": "execute_result"
    }
   ],
   "source": [
    "allmonths[['Product','Quantity Ordered']].groupby('Product').sum().sort_values(by='Quantity Ordered',ascending=False)"
   ]
  },
  {
   "cell_type": "code",
   "execution_count": 47,
   "id": "339939fd",
   "metadata": {},
   "outputs": [
    {
     "data": {
      "text/plain": [
       "<Axes: xlabel='Num of Ordered Product', ylabel='Product'>"
      ]
     },
     "execution_count": 47,
     "metadata": {},
     "output_type": "execute_result"
    },
    {
     "data": {
      "image/png": "[encoded data removed]",
      "text/plain": [
       "<Figure size 640x480 with 1 Axes>"
      ]
     },
     "metadata": {},
     "output_type": "display_data"
    }
   ],
   "source": [
    "allmonths[['Product','Quantity Ordered']].groupby('Product').sum().sort_values(by='Quantity Ordered',ascending=False).head(10).plot(kind='barh',xlabel='Num of Ordered Product',color='orange')"
   ]
  },
  {
   "cell_type": "markdown",
   "id": "79b57b03",
   "metadata": {},
   "source": [
    "## Maybe one of the reasons that make AAA Batteries (4-pack) has the most sales because it is cheap "
   ]
  },
  {
   "cell_type": "code",
   "execution_count": 48,
   "id": "445dc528",
   "metadata": {},
   "outputs": [
    {
     "data": {
      "text/html": [
       "<div>\n",
       "<style scoped>\n",
       "    .dataframe tbody tr th:only-of-type {\n",
       "        vertical-align: middle;\n",
       "    }\n",
       "\n",
       "    .dataframe tbody tr th {\n",
       "        vertical-align: top;\n",
       "    }\n",
       "\n",
       "    .dataframe thead th {\n",
       "        text-align: right;\n",
       "    }\n",
       "</style>\n",
       "<table border=\"1\" class=\"dataframe\">\n",
       "  <thead>\n",
       "    <tr style=\"text-align: right;\">\n",
       "      <th></th>\n",
       "      <th>Product</th>\n",
       "      <th>Price Each</th>\n",
       "    </tr>\n",
       "  </thead>\n",
       "  <tbody>\n",
       "    <tr>\n",
       "      <th>1908</th>\n",
       "      <td>AAA Batteries (4-pack)</td>\n",
       "      <td>2.99</td>\n",
       "    </tr>\n",
       "    <tr>\n",
       "      <th>2193</th>\n",
       "      <td>AA Batteries (4-pack)</td>\n",
       "      <td>3.84</td>\n",
       "    </tr>\n",
       "    <tr>\n",
       "      <th>4104</th>\n",
       "      <td>USB-C Charging Cable</td>\n",
       "      <td>11.95</td>\n",
       "    </tr>\n",
       "    <tr>\n",
       "      <th>17219</th>\n",
       "      <td>Wired Headphones</td>\n",
       "      <td>11.99</td>\n",
       "    </tr>\n",
       "    <tr>\n",
       "      <th>10457</th>\n",
       "      <td>Lightning Charging Cable</td>\n",
       "      <td>14.95</td>\n",
       "    </tr>\n",
       "    <tr>\n",
       "      <th>14874</th>\n",
       "      <td>Bose SoundSport Headphones</td>\n",
       "      <td>99.99</td>\n",
       "    </tr>\n",
       "    <tr>\n",
       "      <th>12904</th>\n",
       "      <td>20in Monitor</td>\n",
       "      <td>109.99</td>\n",
       "    </tr>\n",
       "    <tr>\n",
       "      <th>15944</th>\n",
       "      <td>27in FHD Monitor</td>\n",
       "      <td>149.99</td>\n",
       "    </tr>\n",
       "    <tr>\n",
       "      <th>3044</th>\n",
       "      <td>Apple Airpods Headphones</td>\n",
       "      <td>150.00</td>\n",
       "    </tr>\n",
       "    <tr>\n",
       "      <th>4790</th>\n",
       "      <td>Flatscreen TV</td>\n",
       "      <td>300.00</td>\n",
       "    </tr>\n",
       "    <tr>\n",
       "      <th>4257</th>\n",
       "      <td>34in Ultrawide Monitor</td>\n",
       "      <td>379.99</td>\n",
       "    </tr>\n",
       "    <tr>\n",
       "      <th>7486</th>\n",
       "      <td>27in 4K Gaming Monitor</td>\n",
       "      <td>389.99</td>\n",
       "    </tr>\n",
       "    <tr>\n",
       "      <th>10954</th>\n",
       "      <td>Vareebadd Phone</td>\n",
       "      <td>400.00</td>\n",
       "    </tr>\n",
       "    <tr>\n",
       "      <th>4679</th>\n",
       "      <td>Google Phone</td>\n",
       "      <td>600.00</td>\n",
       "    </tr>\n",
       "    <tr>\n",
       "      <th>799</th>\n",
       "      <td>LG Washing Machine</td>\n",
       "      <td>600.00</td>\n",
       "    </tr>\n",
       "    <tr>\n",
       "      <th>5111</th>\n",
       "      <td>LG Dryer</td>\n",
       "      <td>600.00</td>\n",
       "    </tr>\n",
       "    <tr>\n",
       "      <th>2531</th>\n",
       "      <td>iPhone</td>\n",
       "      <td>700.00</td>\n",
       "    </tr>\n",
       "    <tr>\n",
       "      <th>3094</th>\n",
       "      <td>ThinkPad Laptop</td>\n",
       "      <td>999.99</td>\n",
       "    </tr>\n",
       "    <tr>\n",
       "      <th>1030</th>\n",
       "      <td>Macbook Pro Laptop</td>\n",
       "      <td>1700.00</td>\n",
       "    </tr>\n",
       "  </tbody>\n",
       "</table>\n",
       "</div>"
      ],
      "text/plain": [
       "                          Product  Price Each\n",
       "1908       AAA Batteries (4-pack)        2.99\n",
       "2193        AA Batteries (4-pack)        3.84\n",
       "4104         USB-C Charging Cable       11.95\n",
       "17219            Wired Headphones       11.99\n",
       "10457    Lightning Charging Cable       14.95\n",
       "14874  Bose SoundSport Headphones       99.99\n",
       "12904                20in Monitor      109.99\n",
       "15944            27in FHD Monitor      149.99\n",
       "3044     Apple Airpods Headphones      150.00\n",
       "4790                Flatscreen TV      300.00\n",
       "4257       34in Ultrawide Monitor      379.99\n",
       "7486       27in 4K Gaming Monitor      389.99\n",
       "10954             Vareebadd Phone      400.00\n",
       "4679                 Google Phone      600.00\n",
       "799            LG Washing Machine      600.00\n",
       "5111                     LG Dryer      600.00\n",
       "2531                       iPhone      700.00\n",
       "3094              ThinkPad Laptop      999.99\n",
       "1030           Macbook Pro Laptop     1700.00"
      ]
     },
     "execution_count": 48,
     "metadata": {},
     "output_type": "execute_result"
    }
   ],
   "source": [
    "allmonths[['Product','Price Each']].sort_values(by='Price Each').drop_duplicates()"
   ]
  },
  {
   "cell_type": "markdown",
   "id": "4cac2c51",
   "metadata": {},
   "source": [
    "## Load the file "
   ]
  },
  {
   "cell_type": "code",
   "execution_count": 49,
   "id": "815e13d5",
   "metadata": {},
   "outputs": [],
   "source": [
    "allmonths.to_csv('allmonths Sales.csv',index=False)"
   ]
  },
  {
   "cell_type": "code",
   "execution_count": null,
   "id": "d95dc60a",
   "metadata": {},
   "outputs": [],
   "source": []
  }
 ],
 "metadata": {
  "kernelspec": {
   "display_name": "Python 3 (ipykernel)",
   "language": "python",
   "name": "python3"
  },
  "language_info": {
   "codemirror_mode": {
    "name": "ipython",
    "version": 3
   },
   "file_extension": ".py",
   "mimetype": "text/x-python",
   "name": "python",
   "nbconvert_exporter": "python",
   "pygments_lexer": "ipython3",
   "version": "3.12.3"
  }
 },
 "nbformat": 4,
 "nbformat_minor": 5
}
